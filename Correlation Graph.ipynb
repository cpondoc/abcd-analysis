{
 "metadata": {
  "language_info": {
   "codemirror_mode": {
    "name": "ipython",
    "version": 3
   },
   "file_extension": ".py",
   "mimetype": "text/x-python",
   "name": "python",
   "nbconvert_exporter": "python",
   "pygments_lexer": "ipython3",
   "version": "3.8.5-final"
  },
  "orig_nbformat": 2,
  "kernelspec": {
   "name": "python385jvsc74a57bd048fbe3f7e84d3e71efe70ca97232e4ccc13177ab9077e500884e88e616e1f582",
   "display_name": "Python 3.8.5 64-bit ('base': conda)",
   "language": "python"
  }
 },
 "nbformat": 4,
 "nbformat_minor": 2,
 "cells": [
  {
   "source": [
    "# Correlation between Head Sizes and Sex\n",
    "Working on analyzing the correlation between head size and sex given prediction results from a CNN"
   ],
   "cell_type": "markdown",
   "metadata": {}
  },
  {
   "source": [
    "## Import Libraries\n",
    "Libraries necessary to run code"
   ],
   "cell_type": "markdown",
   "metadata": {}
  },
  {
   "cell_type": "code",
   "execution_count": 36,
   "metadata": {},
   "outputs": [],
   "source": [
    "import matplotlib.pyplot as plt\n",
    "import numpy as np\n",
    "import random\n",
    "import csv\n",
    "from scipy import stats"
   ]
  },
  {
   "source": [
    "## Functions to Import Subject IDs\n",
    "From 'subject_ids' folder"
   ],
   "cell_type": "markdown",
   "metadata": {}
  },
  {
   "cell_type": "code",
   "execution_count": 38,
   "metadata": {},
   "outputs": [],
   "source": [
    "def get_ids(fold_num):\n",
    "    file_name = \"data-three/subject_ids/subid_\" + str(fold_num) + \".txt\" \n",
    "    subject_ids_file = open(file_name, mode='r')\n",
    "    lines = subject_ids_file.readlines()\n",
    "    subject_ids_file.close()\n",
    "    subject_ids = []\n",
    "    for line in lines:\n",
    "        subject_ids.append(line[:-1])\n",
    "    return subject_ids"
   ]
  },
  {
   "source": [
    "## Functions to Import Predictions\n",
    "Both flipped ('prediction_flip') and unflipped ('prediction') predictions"
   ],
   "cell_type": "markdown",
   "metadata": {}
  },
  {
   "cell_type": "code",
   "execution_count": 39,
   "metadata": {},
   "outputs": [],
   "source": [
    "def get_predictions(fold_num, flip):\n",
    "    file_name = \"\"\n",
    "    if (flip):\n",
    "        file_name = \"data-three/prediction_flip/prediction_flip_\" + str(fold_num) + \".txt\" \n",
    "    else:\n",
    "        file_name = \"data-three/predictions/prediction_\" + str(fold_num) + \".txt\" \n",
    "    prediction_file = open(file_name, mode='r')\n",
    "    lines = prediction_file.readlines()\n",
    "    prediction_file.close()\n",
    "    predictions = []\n",
    "    for line in lines:\n",
    "        predictions.append(float(line))\n",
    "    return predictions"
   ]
  },
  {
   "source": [
    "## Getting Head Sizes\n",
    "Get head sizes from corresponding subject IDs"
   ],
   "cell_type": "markdown",
   "metadata": {}
  },
  {
   "cell_type": "code",
   "execution_count": 40,
   "metadata": {},
   "outputs": [],
   "source": [
    "def get_head_sizes(subject_ids):\n",
    "    head_sizes = [None] * len(subject_ids)\n",
    "    with open('svol.csv') as head_size_file:\n",
    "        csv_reader = csv.reader(head_size_file, delimiter=',')\n",
    "        num_lines = 0\n",
    "        for row in csv_reader:\n",
    "            if num_lines == 0:\n",
    "                num_lines += 1\n",
    "            else:\n",
    "                for subject in subject_ids:\n",
    "                    if (subject == row[0]):\n",
    "                        cor_index = subject_ids.index(row[0])\n",
    "                        head_sizes[cor_index] = row[1]\n",
    "                num_lines += 1\n",
    "    return head_sizes"
   ]
  },
  {
   "source": [
    "## Get Sexes\n",
    "Use the general .csv file to get all sexes"
   ],
   "cell_type": "markdown",
   "metadata": {}
  },
  {
   "cell_type": "code",
   "execution_count": 41,
   "metadata": {
    "tags": []
   },
   "outputs": [],
   "source": [
    "def get_sexes(subject_ids):\n",
    "    sexes = [None] * len(subject_ids)\n",
    "    with open('abcd_ssphp01.csv') as all_info_file:\n",
    "        csv_reader = csv.reader(all_info_file, delimiter=',')\n",
    "        num_lines = 0\n",
    "        for row in csv_reader:\n",
    "            if num_lines <= 1:\n",
    "                num_lines += 1\n",
    "            else:\n",
    "                for subject in subject_ids:\n",
    "                    if (subject == row[4]):\n",
    "                        cor_index = subject_ids.index(row[4])\n",
    "                        sexes[cor_index] = row[7]\n",
    "                num_lines += 1\n",
    "        return sexes"
   ]
  },
  {
   "source": [
    "## Plot Fold Graphs\n",
    "Plot correlation with each fold, not differentiated by sex"
   ],
   "cell_type": "markdown",
   "metadata": {}
  },
  {
   "cell_type": "code",
   "execution_count": 42,
   "metadata": {},
   "outputs": [],
   "source": [
    "def plot_fold_graphs(head_sizes, predictions,predictions_flip, i):\n",
    "    # Get a random sample of data to show\n",
    "    start = random.randint(0, len(predictions) - 101)\n",
    "    # Calculate average of unflipped and flipped predictions\n",
    "    head_np = np.array(head_sizes).astype(np.float)\n",
    "    predict_np = np.array(predictions).astype(np.float)\n",
    "    predict_flip_np = np.array(predictions_flip).astype(np.float)\n",
    "    predictions_np = (predict_np + predict_flip_np) / 2\n",
    "    # Plotting\n",
    "    plt.figure()\n",
    "    plt.scatter(head_np[start:start+100], predictions_np[start:start+100])\n",
    "    # Formatting\n",
    "    plt.title(\"Head Size vs. Prediction Score - Fold \" + str(i))\n",
    "    plt.xlabel(\"Head Size\")\n",
    "    plt.ylabel(\"Prediction Score\")\n",
    "    plt.ylim(0, 1)\n",
    "    ax = plt.gca()\n",
    "    ax.axes.xaxis.set_ticks([])\n",
    "    # Saving\n",
    "    plt.savefig(\"data-two/fold_graphs/fold_\" + str(i) + \".png\")\n",
    "    return head_np, predictions_np"
   ]
  },
  {
   "source": [
    "## Get Arrays based on Sex\n",
    "Getting respective arrays based on sex"
   ],
   "cell_type": "markdown",
   "metadata": {}
  },
  {
   "cell_type": "code",
   "execution_count": 43,
   "metadata": {},
   "outputs": [],
   "source": [
    "def get_sex_arrays(subject_ids, sexes, predictions, predictions_flip, head_sizes):\n",
    "    male_predictions = []\n",
    "    male_prediction_flip = []\n",
    "    male_head_sizes = []\n",
    "    female_predictions = []\n",
    "    female_prediction_flip = []\n",
    "    female_head_sizes = []\n",
    "    for i in range(0, len(subject_ids)):\n",
    "        if (sexes[i] == \"M\"):\n",
    "            male_predictions.append(predictions[i])\n",
    "            male_prediction_flip.append(predictions_flip[i])\n",
    "            male_head_sizes.append(head_sizes[i])\n",
    "        else:\n",
    "            female_predictions.append(predictions[i])\n",
    "            female_prediction_flip.append(predictions_flip[i])\n",
    "            female_head_sizes.append(head_sizes[i])\n",
    "    return male_predictions, male_prediction_flip, male_head_sizes, female_predictions, female_prediction_flip, female_head_sizes"
   ]
  },
  {
   "source": [
    "## Plotting Graphs Based on Sex\n",
    "Graphs + correlation based on sex"
   ],
   "cell_type": "markdown",
   "metadata": {}
  },
  {
   "cell_type": "code",
   "execution_count": 44,
   "metadata": {},
   "outputs": [],
   "source": [
    "def plot_sex_graphs(head_sizes, predictions,predictions_flip, i, sex):\n",
    "    # Get a random sample of data to show\n",
    "    start = random.randint(0, len(predictions) - 50)\n",
    "    # Calculate average of unflipped and flipped predictions\n",
    "    head_np = np.array(head_sizes).astype(np.float)\n",
    "    predict_np = np.array(predictions).astype(np.float)\n",
    "    predict_flip_np = np.array(predictions_flip).astype(np.float)\n",
    "    predictions_np = (predict_np + predict_flip_np) / 2\n",
    "    # Plotting\n",
    "    plt.figure()\n",
    "    plt.scatter(head_np[start:start+100], predictions_np[start:start+100])\n",
    "    # Formatting\n",
    "    plt.title(\"Head Size vs. Sex - Fold \" + str(i) + \", \" + sex)\n",
    "    plt.xlabel(\"Head Size\")\n",
    "    plt.ylabel(\"Prediction Score\")\n",
    "    plt.ylim(0, 1)\n",
    "    ax = plt.gca()\n",
    "    ax.axes.xaxis.set_ticks([])\n",
    "    # Saving\n",
    "    plt.savefig(\"data-three/fold_sexes/fold_\" + str(i) + \"_\" + sex + \".png\")\n",
    "    return head_np, predictions_np"
   ]
  },
  {
   "source": [
    "## Calculate Correlation and P-Value\n",
    "Use scipy.stats to calculate Pearson Correlation and P-Value"
   ],
   "cell_type": "markdown",
   "metadata": {}
  },
  {
   "cell_type": "code",
   "execution_count": 45,
   "metadata": {},
   "outputs": [],
   "source": [
    "def calculate_correlation(head_np, predictions_np, i, type):\n",
    "    correlation_matrix = stats.pearsonr(head_np, predictions_np)\n",
    "    correlation_file = open(\"data-three/fold_correlations/correlation_\" + str(i) + \".txt\", \"a+\")\n",
    "    correlation_file.write(\"Correlation of \" + type + \" fold \" + str(i) + \": \" + str(correlation_matrix[0]) + \"\\n\")\n",
    "    correlation_file.write(\"P-Value of \" + type + \" fold \" + str(i) + \": \" + str(correlation_matrix[1]) + \"\\n\")\n",
    "    correlation_file.close()"
   ]
  },
  {
   "source": [
    "## Main Function\n",
    "Loops through all folds, gets ids and predictions, plots them, and finds correlation"
   ],
   "cell_type": "markdown",
   "metadata": {}
  },
  {
   "cell_type": "code",
   "execution_count": 46,
   "metadata": {
    "tags": []
   },
   "outputs": [
    {
     "output_type": "error",
     "ename": "ValueError",
     "evalue": "empty range for randrange() (0, -18, -18)",
     "traceback": [
      "\u001b[0;31m---------------------------------------------------------------------------\u001b[0m",
      "\u001b[0;31mValueError\u001b[0m                                Traceback (most recent call last)",
      "\u001b[0;32m<ipython-input-46-fa792b6c0d49>\u001b[0m in \u001b[0;36m<module>\u001b[0;34m\u001b[0m\n\u001b[1;32m     16\u001b[0m         \u001b[0mcalculate_correlation\u001b[0m\u001b[0;34m(\u001b[0m\u001b[0mfemale_head_np\u001b[0m\u001b[0;34m,\u001b[0m \u001b[0mfemale_predictions_np\u001b[0m\u001b[0;34m,\u001b[0m \u001b[0mi\u001b[0m\u001b[0;34m,\u001b[0m \u001b[0;34m\"female\"\u001b[0m\u001b[0;34m)\u001b[0m\u001b[0;34m\u001b[0m\u001b[0;34m\u001b[0m\u001b[0m\n\u001b[1;32m     17\u001b[0m \u001b[0;34m\u001b[0m\u001b[0m\n\u001b[0;32m---> 18\u001b[0;31m \u001b[0mrun_correlation_reports\u001b[0m\u001b[0;34m(\u001b[0m\u001b[0;34m)\u001b[0m\u001b[0;34m\u001b[0m\u001b[0;34m\u001b[0m\u001b[0m\n\u001b[0m",
      "\u001b[0;32m<ipython-input-46-fa792b6c0d49>\u001b[0m in \u001b[0;36mrun_correlation_reports\u001b[0;34m()\u001b[0m\n\u001b[1;32m      9\u001b[0m         \u001b[0msexes\u001b[0m \u001b[0;34m=\u001b[0m \u001b[0mget_sexes\u001b[0m\u001b[0;34m(\u001b[0m\u001b[0msubject_ids\u001b[0m\u001b[0;34m)\u001b[0m\u001b[0;34m\u001b[0m\u001b[0;34m\u001b[0m\u001b[0m\n\u001b[1;32m     10\u001b[0m         \u001b[0mmale_predictions\u001b[0m\u001b[0;34m,\u001b[0m \u001b[0mmale_prediction_flip\u001b[0m\u001b[0;34m,\u001b[0m \u001b[0mmale_head_sizes\u001b[0m\u001b[0;34m,\u001b[0m \u001b[0mfemale_predictions\u001b[0m\u001b[0;34m,\u001b[0m \u001b[0mfemale_prediction_flip\u001b[0m\u001b[0;34m,\u001b[0m \u001b[0mfemale_head_sizes\u001b[0m \u001b[0;34m=\u001b[0m \u001b[0mget_sex_arrays\u001b[0m\u001b[0;34m(\u001b[0m\u001b[0msubject_ids\u001b[0m\u001b[0;34m,\u001b[0m \u001b[0msexes\u001b[0m\u001b[0;34m,\u001b[0m \u001b[0mpredictions\u001b[0m\u001b[0;34m,\u001b[0m \u001b[0mpredictions_flip\u001b[0m\u001b[0;34m,\u001b[0m \u001b[0mhead_sizes\u001b[0m\u001b[0;34m)\u001b[0m\u001b[0;34m\u001b[0m\u001b[0;34m\u001b[0m\u001b[0m\n\u001b[0;32m---> 11\u001b[0;31m         \u001b[0mmale_head_np\u001b[0m\u001b[0;34m,\u001b[0m \u001b[0mmale_predictions_np\u001b[0m \u001b[0;34m=\u001b[0m \u001b[0mplot_sex_graphs\u001b[0m\u001b[0;34m(\u001b[0m\u001b[0mmale_head_sizes\u001b[0m\u001b[0;34m,\u001b[0m \u001b[0mmale_predictions\u001b[0m\u001b[0;34m,\u001b[0m \u001b[0mmale_prediction_flip\u001b[0m\u001b[0;34m,\u001b[0m \u001b[0mi\u001b[0m\u001b[0;34m,\u001b[0m \u001b[0;34m\"Male\"\u001b[0m\u001b[0;34m)\u001b[0m\u001b[0;34m\u001b[0m\u001b[0;34m\u001b[0m\u001b[0m\n\u001b[0m\u001b[1;32m     12\u001b[0m         \u001b[0mfemale_head_np\u001b[0m\u001b[0;34m,\u001b[0m \u001b[0mfemale_predictions_np\u001b[0m \u001b[0;34m=\u001b[0m \u001b[0mplot_sex_graphs\u001b[0m\u001b[0;34m(\u001b[0m\u001b[0mfemale_head_sizes\u001b[0m\u001b[0;34m,\u001b[0m \u001b[0mfemale_predictions\u001b[0m\u001b[0;34m,\u001b[0m \u001b[0mfemale_prediction_flip\u001b[0m\u001b[0;34m,\u001b[0m \u001b[0mi\u001b[0m\u001b[0;34m,\u001b[0m \u001b[0;34m\"Female\"\u001b[0m\u001b[0;34m)\u001b[0m\u001b[0;34m\u001b[0m\u001b[0;34m\u001b[0m\u001b[0m\n\u001b[1;32m     13\u001b[0m         \u001b[0mhead_np\u001b[0m\u001b[0;34m,\u001b[0m \u001b[0mpredictions_np\u001b[0m \u001b[0;34m=\u001b[0m \u001b[0mplot_fold_graphs\u001b[0m\u001b[0;34m(\u001b[0m\u001b[0mhead_sizes\u001b[0m\u001b[0;34m,\u001b[0m \u001b[0mpredictions\u001b[0m\u001b[0;34m,\u001b[0m \u001b[0mpredictions_flip\u001b[0m\u001b[0;34m,\u001b[0m \u001b[0mi\u001b[0m\u001b[0;34m)\u001b[0m\u001b[0;34m\u001b[0m\u001b[0;34m\u001b[0m\u001b[0m\n",
      "\u001b[0;32m<ipython-input-44-19024f02c0e2>\u001b[0m in \u001b[0;36mplot_sex_graphs\u001b[0;34m(head_sizes, predictions, predictions_flip, i, sex)\u001b[0m\n\u001b[1;32m      1\u001b[0m \u001b[0;32mdef\u001b[0m \u001b[0mplot_sex_graphs\u001b[0m\u001b[0;34m(\u001b[0m\u001b[0mhead_sizes\u001b[0m\u001b[0;34m,\u001b[0m \u001b[0mpredictions\u001b[0m\u001b[0;34m,\u001b[0m\u001b[0mpredictions_flip\u001b[0m\u001b[0;34m,\u001b[0m \u001b[0mi\u001b[0m\u001b[0;34m,\u001b[0m \u001b[0msex\u001b[0m\u001b[0;34m)\u001b[0m\u001b[0;34m:\u001b[0m\u001b[0;34m\u001b[0m\u001b[0;34m\u001b[0m\u001b[0m\n\u001b[1;32m      2\u001b[0m     \u001b[0;31m# Get a random sample of data to show\u001b[0m\u001b[0;34m\u001b[0m\u001b[0;34m\u001b[0m\u001b[0;34m\u001b[0m\u001b[0m\n\u001b[0;32m----> 3\u001b[0;31m     \u001b[0mstart\u001b[0m \u001b[0;34m=\u001b[0m \u001b[0mrandom\u001b[0m\u001b[0;34m.\u001b[0m\u001b[0mrandint\u001b[0m\u001b[0;34m(\u001b[0m\u001b[0;36m0\u001b[0m\u001b[0;34m,\u001b[0m \u001b[0mlen\u001b[0m\u001b[0;34m(\u001b[0m\u001b[0mpredictions\u001b[0m\u001b[0;34m)\u001b[0m \u001b[0;34m-\u001b[0m \u001b[0;36m101\u001b[0m\u001b[0;34m)\u001b[0m\u001b[0;34m\u001b[0m\u001b[0;34m\u001b[0m\u001b[0m\n\u001b[0m\u001b[1;32m      4\u001b[0m     \u001b[0;31m# Calculate average of unflipped and flipped predictions\u001b[0m\u001b[0;34m\u001b[0m\u001b[0;34m\u001b[0m\u001b[0;34m\u001b[0m\u001b[0m\n\u001b[1;32m      5\u001b[0m     \u001b[0mhead_np\u001b[0m \u001b[0;34m=\u001b[0m \u001b[0mnp\u001b[0m\u001b[0;34m.\u001b[0m\u001b[0marray\u001b[0m\u001b[0;34m(\u001b[0m\u001b[0mhead_sizes\u001b[0m\u001b[0;34m)\u001b[0m\u001b[0;34m.\u001b[0m\u001b[0mastype\u001b[0m\u001b[0;34m(\u001b[0m\u001b[0mnp\u001b[0m\u001b[0;34m.\u001b[0m\u001b[0mfloat\u001b[0m\u001b[0;34m)\u001b[0m\u001b[0;34m\u001b[0m\u001b[0;34m\u001b[0m\u001b[0m\n",
      "\u001b[0;32m~/miniconda3/lib/python3.8/random.py\u001b[0m in \u001b[0;36mrandint\u001b[0;34m(self, a, b)\u001b[0m\n\u001b[1;32m    246\u001b[0m         \"\"\"\n\u001b[1;32m    247\u001b[0m \u001b[0;34m\u001b[0m\u001b[0m\n\u001b[0;32m--> 248\u001b[0;31m         \u001b[0;32mreturn\u001b[0m \u001b[0mself\u001b[0m\u001b[0;34m.\u001b[0m\u001b[0mrandrange\u001b[0m\u001b[0;34m(\u001b[0m\u001b[0ma\u001b[0m\u001b[0;34m,\u001b[0m \u001b[0mb\u001b[0m\u001b[0;34m+\u001b[0m\u001b[0;36m1\u001b[0m\u001b[0;34m)\u001b[0m\u001b[0;34m\u001b[0m\u001b[0;34m\u001b[0m\u001b[0m\n\u001b[0m\u001b[1;32m    249\u001b[0m \u001b[0;34m\u001b[0m\u001b[0m\n\u001b[1;32m    250\u001b[0m     \u001b[0;32mdef\u001b[0m \u001b[0m_randbelow_with_getrandbits\u001b[0m\u001b[0;34m(\u001b[0m\u001b[0mself\u001b[0m\u001b[0;34m,\u001b[0m \u001b[0mn\u001b[0m\u001b[0;34m)\u001b[0m\u001b[0;34m:\u001b[0m\u001b[0;34m\u001b[0m\u001b[0;34m\u001b[0m\u001b[0m\n",
      "\u001b[0;32m~/miniconda3/lib/python3.8/random.py\u001b[0m in \u001b[0;36mrandrange\u001b[0;34m(self, start, stop, step, _int)\u001b[0m\n\u001b[1;32m    224\u001b[0m             \u001b[0;32mreturn\u001b[0m \u001b[0mistart\u001b[0m \u001b[0;34m+\u001b[0m \u001b[0mself\u001b[0m\u001b[0;34m.\u001b[0m\u001b[0m_randbelow\u001b[0m\u001b[0;34m(\u001b[0m\u001b[0mwidth\u001b[0m\u001b[0;34m)\u001b[0m\u001b[0;34m\u001b[0m\u001b[0;34m\u001b[0m\u001b[0m\n\u001b[1;32m    225\u001b[0m         \u001b[0;32mif\u001b[0m \u001b[0mstep\u001b[0m \u001b[0;34m==\u001b[0m \u001b[0;36m1\u001b[0m\u001b[0;34m:\u001b[0m\u001b[0;34m\u001b[0m\u001b[0;34m\u001b[0m\u001b[0m\n\u001b[0;32m--> 226\u001b[0;31m             \u001b[0;32mraise\u001b[0m \u001b[0mValueError\u001b[0m\u001b[0;34m(\u001b[0m\u001b[0;34m\"empty range for randrange() (%d, %d, %d)\"\u001b[0m \u001b[0;34m%\u001b[0m \u001b[0;34m(\u001b[0m\u001b[0mistart\u001b[0m\u001b[0;34m,\u001b[0m \u001b[0mistop\u001b[0m\u001b[0;34m,\u001b[0m \u001b[0mwidth\u001b[0m\u001b[0;34m)\u001b[0m\u001b[0;34m)\u001b[0m\u001b[0;34m\u001b[0m\u001b[0;34m\u001b[0m\u001b[0m\n\u001b[0m\u001b[1;32m    227\u001b[0m \u001b[0;34m\u001b[0m\u001b[0m\n\u001b[1;32m    228\u001b[0m         \u001b[0;31m# Non-unit step argument supplied.\u001b[0m\u001b[0;34m\u001b[0m\u001b[0;34m\u001b[0m\u001b[0;34m\u001b[0m\u001b[0m\n",
      "\u001b[0;31mValueError\u001b[0m: empty range for randrange() (0, -18, -18)"
     ]
    }
   ],
   "source": [
    "def run_correlation_reports():\n",
    "    for i in range(1, 6):\n",
    "        subject_ids = get_ids(i)\n",
    "        predictions = get_predictions(i, False)\n",
    "        predictions_flip = get_predictions(i, True)\n",
    "        if (len(predictions) != len(subject_ids) or len(predictions_flip) != len(subject_ids)):\n",
    "            print(\"ERROR: Not equal amounts of IDs and predictions.\")\n",
    "        head_sizes = get_head_sizes(subject_ids)\n",
    "        sexes = get_sexes(subject_ids)\n",
    "        male_predictions, male_prediction_flip, male_head_sizes, female_predictions, female_prediction_flip, female_head_sizes = get_sex_arrays(subject_ids, sexes, predictions, predictions_flip, head_sizes)\n",
    "        male_head_np, male_predictions_np = plot_sex_graphs(male_head_sizes, male_predictions, male_prediction_flip, i, \"Male\")\n",
    "        female_head_np, female_predictions_np = plot_sex_graphs(female_head_sizes, female_predictions, female_prediction_flip, i, \"Female\")\n",
    "        head_np, predictions_np = plot_fold_graphs(head_sizes, predictions, predictions_flip, i)\n",
    "        calculate_correlation(head_np, predictions_np, i, \"total\")\n",
    "        calculate_correlation(male_head_np, male_predictions_np, i, \"male\")\n",
    "        calculate_correlation(female_head_np, female_predictions_np, i, \"female\")\n",
    "\n",
    "run_correlation_reports()"
   ]
  },
  {
   "cell_type": "code",
   "execution_count": null,
   "metadata": {},
   "outputs": [],
   "source": []
  }
 ]
}